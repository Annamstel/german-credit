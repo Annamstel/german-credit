{
 "cells": [
  {
   "cell_type": "markdown",
   "metadata": {},
   "source": [
    "# Configure credentials"
   ]
  },
  {
   "cell_type": "code",
   "execution_count": null,
   "metadata": {},
   "outputs": [],
   "source": [
    "# api key and aios guid\n",
    "AIOS_CREDENTIALS = {\n",
    "  \"instance_guid\": \"AIOS GUID HERE\",\n",
    "  \"apikey\": \"CLOUD API KEY HERE\", \n",
    "  \"url\": \"https://api.aiopenscale.cloud.ibm.com\"\n",
    "}"
   ]
  },
  {
   "cell_type": "code",
   "execution_count": null,
   "metadata": {},
   "outputs": [],
   "source": [
    "# wml\n",
    "wml_credentials = {\n",
    "  \n",
    "}"
   ]
  },
  {
   "cell_type": "code",
   "execution_count": null,
   "metadata": {},
   "outputs": [],
   "source": [
    "# postgres\n",
    "POSTGRES_CREDENTIALS = {\n",
    "    \"db_type\": \"postgresql\",\n",
    "    \"name\": \"name here\",\n",
    "    \"uri\": \"uri here\"\n",
    "}"
   ]
  },
  {
   "cell_type": "code",
   "execution_count": null,
   "metadata": {},
   "outputs": [],
   "source": [
    "#cos\n",
    "COS_CREDENTIALS = {\n",
    "    'apikey': 'here',\n",
    "    'iam_service_id': 'here',\n",
    "    'resource_instance_id': 'here',\n",
    "    'endpoint': 'https://s3-api.us-geo.objectstorage.softlayer.net',\n",
    "    'ibm_auth_endpoint': 'https://iam.bluemix.net/oidc/token'\n",
    "}\n",
    "\n",
    "COS_BUCKET_NAME = \"something-unique-to-you\""
   ]
  },
  {
   "cell_type": "markdown",
   "metadata": {
    "collapsed": true
   },
   "source": [
    "# Package installation"
   ]
  },
  {
   "cell_type": "code",
   "execution_count": null,
   "metadata": {},
   "outputs": [],
   "source": [
    "!rm -rf $PIP_BUILD\n",
    "!pip install --upgrade watson-machine-learning-client --no-cache | tail -n 1\n",
    "!pip install --upgrade ibm-ai-openscale --no-cache | tail -n 1\n",
    "!pip install psycopg2-binary | tail -n 1"
   ]
  },
  {
   "cell_type": "markdown",
   "metadata": {},
   "source": [
    "Restart the kernel to assure the new libraries are being used."
   ]
  },
  {
   "cell_type": "markdown",
   "metadata": {},
   "source": [
    "# Load and explore data"
   ]
  },
  {
   "cell_type": "markdown",
   "metadata": {},
   "source": [
    "## Load the training data from github"
   ]
  },
  {
   "cell_type": "code",
   "execution_count": null,
   "metadata": {},
   "outputs": [],
   "source": [
    "!rm credit_risk_training.csv\n",
    "!wget https://raw.githubusercontent.com/emartensibm/german-credit/master/credit_risk_training.csv"
   ]
  },
  {
   "cell_type": "code",
   "execution_count": null,
   "metadata": {},
   "outputs": [],
   "source": [
    "from pyspark.sql import SparkSession\n",
    "import json\n",
    "\n",
    "spark = SparkSession.builder.getOrCreate()\n",
    "df_data = spark.read.csv(path=\"credit_risk_training.csv\", sep=\",\", header=True, inferSchema=True)\n",
    "df_data.head()"
   ]
  },
  {
   "cell_type": "markdown",
   "metadata": {},
   "source": [
    "## Store the training data in COS"
   ]
  },
  {
   "cell_type": "code",
   "execution_count": null,
   "metadata": {},
   "outputs": [],
   "source": [
    "import ibm_boto3\n",
    "from ibm_botocore.client import Config\n",
    "import io, urllib\n",
    "\n",
    "cos = ibm_boto3.resource('s3',\n",
    "                      ibm_api_key_id=COS_CREDENTIALS['apikey'],\n",
    "                      ibm_service_instance_id=COS_CREDENTIALS['resource_instance_id'],\n",
    "                      ibm_auth_endpoint=COS_CREDENTIALS['ibm_auth_endpoint'],\n",
    "                      config=Config(signature_version='oauth'),\n",
    "                      endpoint_url=COS_CREDENTIALS['endpoint'])\n",
    "\n",
    "buckets = []\n",
    "for bucket in cos.buckets.all():\n",
    "        buckets.append(bucket.name)\n",
    "        \n",
    "if COS_BUCKET_NAME not in buckets:\n",
    "    cos.create_bucket(Bucket=COS_BUCKET_NAME)\n",
    "\n",
    "cos.Bucket(COS_BUCKET_NAME).upload_file('credit_risk_training.csv', 'credit_risk_training.csv')"
   ]
  },
  {
   "cell_type": "markdown",
   "metadata": {},
   "source": [
    "## Put the training data into a Postgres database"
   ]
  },
  {
   "cell_type": "code",
   "execution_count": null,
   "metadata": {},
   "outputs": [],
   "source": [
    "SCHEMA_NAME = 'credit_risk_data_mart_for_wml'"
   ]
  },
  {
   "cell_type": "code",
   "execution_count": null,
   "metadata": {},
   "outputs": [],
   "source": [
    "from ibm_ai_openscale.utils import create_postgres_schema\n",
    "create_postgres_schema(postgres_credentials=POSTGRES_CREDENTIALS, schema_name=SCHEMA_NAME)\n",
    "TABLE_NAME = \"CREDIT_RISK_TRAINING\""
   ]
  },
  {
   "cell_type": "code",
   "execution_count": null,
   "metadata": {},
   "outputs": [],
   "source": [
    "import psycopg2\n",
    "\n",
    "hostname = POSTGRES_CREDENTIALS['uri'].split('@')[1].split(':')[0]\n",
    "port = POSTGRES_CREDENTIALS['uri'].split('@')[1].split(':')[1].split('/')[0]\n",
    "user = POSTGRES_CREDENTIALS['uri'].split('@')[0].split('//')[1].split(':')[0]\n",
    "password = POSTGRES_CREDENTIALS['uri'].split('@')[0].split('//')[1].split(':')[1]\n",
    "dbname = 'compose'\n",
    "conn_string = \"host=\" + hostname + \" port=\" + port + \" dbname=\" + dbname + \" user=\" + user + \" password=\" + password\n",
    "\n",
    "conn = psycopg2.connect(conn_string)\n",
    "conn.autocommit = True\n",
    "cursor = conn.cursor()\n",
    "cursor.execute(\"\"\"\n",
    "DROP TABLE IF EXISTS {}.{}\n",
    "\"\"\".format(SCHEMA_NAME, TABLE_NAME))\n",
    "cursor.execute(\"\"\"\n",
    "CREATE TABLE {}.{}(\n",
    "    CheckingStatus text,\n",
    "    LoanDuration integer,\n",
    "    CreditHistory text,\n",
    "    LoanPurpose text,\n",
    "    LoanAmount integer,\n",
    "    ExistingSavings text,\n",
    "    EmploymentDuration text,\n",
    "    InstallmentPercent integer,\n",
    "    Sex text,\n",
    "    OthersOnLoan text,\n",
    "    CurrentResidenceDuration integer,\n",
    "    OwnsProperty text,\n",
    "    Age integer,\n",
    "    InstallmentPlans text,\n",
    "    Housing text,\n",
    "    ExistingCreditsCount integer,\n",
    "    Job text,\n",
    "    Dependents integer,\n",
    "    Telephone text,\n",
    "    ForeignWorker text,\n",
    "    Risk integer\n",
    ")\n",
    "\"\"\".format(SCHEMA_NAME, TABLE_NAME))\n",
    "cursor.close()\n",
    "conn.close()"
   ]
  },
  {
   "cell_type": "code",
   "execution_count": null,
   "metadata": {},
   "outputs": [],
   "source": [
    "conn = psycopg2.connect(conn_string)\n",
    "conn.autocommit = True\n",
    "cursor = conn.cursor()\n",
    "with open('credit_risk_training.csv', 'r') as f:\n",
    "    next(f)\n",
    "    cursor.copy_from(file=f, table='{}.CREDIT_RISK_TRAINING'.format(SCHEMA_NAME), sep=',')\n",
    "cursor.close()\n",
    "conn.close()"
   ]
  },
  {
   "cell_type": "markdown",
   "metadata": {},
   "source": [
    "Print the first row of the training data"
   ]
  },
  {
   "cell_type": "code",
   "execution_count": null,
   "metadata": {},
   "outputs": [],
   "source": [
    "conn = psycopg2.connect(conn_string)\n",
    "conn.autocommit = True\n",
    "cursor = conn.cursor()\n",
    "cursor.execute(\"\"\"\n",
    "SELECT * FROM {}.CREDIT_RISK_TRAINING LIMIT 1\n",
    "\"\"\".format(SCHEMA_NAME))\n",
    "result = cursor.fetchall()\n",
    "cursor.close()\n",
    "conn.close()\n",
    "\n",
    "print(result)"
   ]
  },
  {
   "cell_type": "markdown",
   "metadata": {},
   "source": [
    "## Explore data"
   ]
  },
  {
   "cell_type": "code",
   "execution_count": null,
   "metadata": {},
   "outputs": [],
   "source": [
    "df_data.printSchema()"
   ]
  },
  {
   "cell_type": "code",
   "execution_count": null,
   "metadata": {},
   "outputs": [],
   "source": [
    "print(\"Number of records: \" + str(df_data.count()))"
   ]
  },
  {
   "cell_type": "markdown",
   "metadata": {},
   "source": [
    "# Create a model"
   ]
  },
  {
   "cell_type": "code",
   "execution_count": null,
   "metadata": {},
   "outputs": [],
   "source": [
    "# spark_df = sqlCtx.createDataFrame(df_data)\n",
    "spark_df = df_data\n",
    "(train_data, test_data) = spark_df.randomSplit([0.8, 0.2], 24)\n",
    "\n",
    "model_name = \"AIOS Spark German Risk Model - Final\"\n",
    "deployment_name = \"AIOS Spark German Risk Deployment - Final\"\n",
    "\n",
    "print(\"Number of records for training: \" + str(train_data.count()))\n",
    "print(\"Number of records for evaluation: \" + str(test_data.count()))\n",
    "\n",
    "spark_df.printSchema()"
   ]
  },
  {
   "cell_type": "code",
   "execution_count": null,
   "metadata": {},
   "outputs": [],
   "source": [
    "from pyspark.ml.feature import OneHotEncoder, StringIndexer, IndexToString, VectorAssembler\n",
    "from pyspark.ml.evaluation import MulticlassClassificationEvaluator\n",
    "from pyspark.ml import Pipeline, Model\n",
    "\n",
    "si_CheckingStatus = StringIndexer(inputCol = 'CheckingStatus', outputCol = 'CheckingStatus_IX')\n",
    "si_CreditHistory = StringIndexer(inputCol = 'CreditHistory', outputCol = 'CreditHistory_IX')\n",
    "si_LoanPurpose = StringIndexer(inputCol = 'LoanPurpose', outputCol = 'LoanPurpose_IX')\n",
    "si_ExistingSavings = StringIndexer(inputCol = 'ExistingSavings', outputCol = 'ExistingSavings_IX')\n",
    "si_EmploymentDuration = StringIndexer(inputCol = 'EmploymentDuration', outputCol = 'EmploymentDuration_IX')\n",
    "si_Sex = StringIndexer(inputCol = 'Sex', outputCol = 'Sex_IX')\n",
    "si_OthersOnLoan = StringIndexer(inputCol = 'OthersOnLoan', outputCol = 'OthersOnLoan_IX')\n",
    "si_OwnsProperty = StringIndexer(inputCol = 'OwnsProperty', outputCol = 'OwnsProperty_IX')\n",
    "si_InstallmentPlans = StringIndexer(inputCol = 'InstallmentPlans', outputCol = 'InstallmentPlans_IX')\n",
    "si_Housing = StringIndexer(inputCol = 'Housing', outputCol = 'Housing_IX')\n",
    "si_Job = StringIndexer(inputCol = 'Job', outputCol = 'Job_IX')\n",
    "si_Telephone = StringIndexer(inputCol = 'Telephone', outputCol = 'Telephone_IX')\n",
    "si_ForeignWorker = StringIndexer(inputCol = 'ForeignWorker', outputCol = 'ForeignWorker_IX')"
   ]
  },
  {
   "cell_type": "code",
   "execution_count": null,
   "metadata": {},
   "outputs": [],
   "source": [
    "va_features = VectorAssembler(inputCols=[\"CheckingStatus_IX\", \"CreditHistory_IX\", \"LoanPurpose_IX\", \"ExistingSavings_IX\", \"EmploymentDuration_IX\", \"Sex_IX\", \\\n",
    "                                         \"OthersOnLoan_IX\", \"OwnsProperty_IX\", \"InstallmentPlans_IX\", \"Housing_IX\", \"Job_IX\", \"Telephone_IX\", \"ForeignWorker_IX\", \\\n",
    "                                         \"LoanDuration\", \"LoanAmount\", \"InstallmentPercent\", \"CurrentResidenceDuration\", \"LoanDuration\", \"Age\", \"ExistingCreditsCount\", \\\n",
    "                                         \"Dependents\"], outputCol=\"features\")"
   ]
  },
  {
   "cell_type": "code",
   "execution_count": null,
   "metadata": {},
   "outputs": [],
   "source": [
    "from pyspark.ml.classification import RandomForestClassifier\n",
    "classifier = RandomForestClassifier(labelCol=\"Risk\", featuresCol=\"features\")\n",
    "\n",
    "pipeline = Pipeline(stages=[si_CheckingStatus, si_CreditHistory, si_EmploymentDuration, si_ExistingSavings, si_ForeignWorker, si_Housing, si_InstallmentPlans, si_Job, si_LoanPurpose, si_OthersOnLoan,\\\n",
    "                               si_OwnsProperty, si_Sex, si_Telephone, va_features, classifier])\n",
    "model = pipeline.fit(train_data)"
   ]
  },
  {
   "cell_type": "code",
   "execution_count": null,
   "metadata": {},
   "outputs": [],
   "source": [
    "predictions = model.transform(test_data)\n",
    "evaluatorDT = MulticlassClassificationEvaluator(labelCol=\"Risk\", predictionCol=\"prediction\", metricName=\"accuracy\")\n",
    "accuracy = evaluatorDT.evaluate(predictions)\n",
    "\n",
    "print(\"Accuracy = %g\" % accuracy)"
   ]
  },
  {
   "cell_type": "markdown",
   "metadata": {},
   "source": [
    "# Save and deploy the model"
   ]
  },
  {
   "cell_type": "code",
   "execution_count": null,
   "metadata": {},
   "outputs": [],
   "source": [
    "from watson_machine_learning_client import WatsonMachineLearningAPIClient\n",
    "import json\n",
    "\n",
    "wml_client = WatsonMachineLearningAPIClient(wml_credentials)"
   ]
  },
  {
   "cell_type": "code",
   "execution_count": null,
   "metadata": {},
   "outputs": [],
   "source": [
    "# this is the postgres definition, replace with the cos definition\n",
    "training_data_reference = {\n",
    "    \"name\": \"credit risk training reference\",\n",
    "    \"connection\": POSTGRES_CREDENTIALS,\n",
    "    \"source\": {\n",
    "        \"schemaname\": SCHEMA_NAME,\n",
    "        \"tablename\": TABLE_NAME,\n",
    "        \"type\": \"postgres\"\n",
    "    }\n",
    "}"
   ]
  },
  {
   "cell_type": "code",
   "execution_count": null,
   "metadata": {},
   "outputs": [],
   "source": [
    "model_props = {\n",
    "    wml_client.repository.ModelMetaNames.NAME: \"{}\".format(model_name),\n",
    "    wml_client.repository.ModelMetaNames.TRAINING_DATA_REFERENCE: training_data_reference,\n",
    "    wml_client.repository.ModelMetaNames.EVALUATION_METHOD: \"multiclass\",\n",
    "    wml_client.repository.ModelMetaNames.EVALUATION_METRICS: [\n",
    "        {\n",
    "           \"name\": \"accuracy\",\n",
    "           \"value\": accuracy,\n",
    "           \"threshold\": 0.8\n",
    "        }\n",
    "    ]\n",
    "}"
   ]
  },
  {
   "cell_type": "code",
   "execution_count": null,
   "metadata": {},
   "outputs": [],
   "source": [
    "wml_models = wml_client.repository.get_details()\n",
    "model_uid = None\n",
    "for model_in in wml_models['models']['resources']:\n",
    "    if model_name == model_in['entity']['name']:\n",
    "        model_uid = model_in['metadata']['guid']\n",
    "        break\n",
    "\n",
    "if model_uid is None:\n",
    "    print(\"Storing model ...\")\n",
    "\n",
    "    published_model_details = wml_client.repository.store_model(model=model, meta_props=model_props, training_data=train_data, pipeline=pipeline)\n",
    "    model_uid = wml_client.repository.get_model_uid(published_model_details)\n",
    "    print(\"Done\")"
   ]
  },
  {
   "cell_type": "code",
   "execution_count": null,
   "metadata": {},
   "outputs": [],
   "source": [
    "model_uid"
   ]
  },
  {
   "cell_type": "code",
   "execution_count": null,
   "metadata": {},
   "outputs": [],
   "source": [
    "wml_deployments = wml_client.deployments.get_details()\n",
    "deployment_uid = None\n",
    "for deployment in wml_deployments['resources']:\n",
    "    if deployment_name == deployment['entity']['name']:\n",
    "        deployment_uid = deployment['metadata']['guid']\n",
    "        break\n",
    "\n",
    "if deployment_uid is None:\n",
    "    print(\"Deploying model...\")\n",
    "\n",
    "    deployment = wml_client.deployments.create(artifact_uid=model_uid, name=deployment_name, asynchronous=False)\n",
    "    deployment_uid = wml_client.deployments.get_uid(deployment)\n",
    "    \n",
    "print(\"Model id: {}\".format(model_uid))\n",
    "print(\"Deployment id: {}\".format(deployment_uid))"
   ]
  },
  {
   "cell_type": "markdown",
   "metadata": {},
   "source": [
    "# Configure OpenScale"
   ]
  },
  {
   "cell_type": "code",
   "execution_count": null,
   "metadata": {},
   "outputs": [],
   "source": [
    "from ibm_ai_openscale import APIClient\n",
    "from ibm_ai_openscale.engines import *\n",
    "from ibm_ai_openscale.utils import *\n",
    "from ibm_ai_openscale.supporting_classes import PayloadRecord, Feature\n",
    "from ibm_ai_openscale.supporting_classes.enums import *"
   ]
  },
  {
   "cell_type": "markdown",
   "metadata": {},
   "source": [
    "## Create schema and datamart"
   ]
  },
  {
   "cell_type": "code",
   "execution_count": null,
   "metadata": {},
   "outputs": [],
   "source": [
    "ai_client = APIClient(aios_credentials=AIOS_CREDENTIALS)\n",
    "ai_client.version"
   ]
  },
  {
   "cell_type": "code",
   "execution_count": null,
   "metadata": {},
   "outputs": [],
   "source": [
    "# if your schema already exists, identify it here\n",
    "SCHEMA_NAME = 'data_mart_credit_risk'"
   ]
  },
  {
   "cell_type": "markdown",
   "metadata": {},
   "source": [
    "### Skip this next step if your schema already exists"
   ]
  },
  {
   "cell_type": "code",
   "execution_count": null,
   "metadata": {},
   "outputs": [],
   "source": [
    "create_postgres_schema(postgres_credentials=POSTGRES_CREDENTIALS, schema_name=SCHEMA_NAME)"
   ]
  },
  {
   "cell_type": "markdown",
   "metadata": {},
   "source": [
    "### Set up datamart"
   ]
  },
  {
   "cell_type": "code",
   "execution_count": null,
   "metadata": {},
   "outputs": [],
   "source": [
    "ai_client.data_mart.delete()\n",
    "ai_client.data_mart.setup(db_credentials=POSTGRES_CREDENTIALS, schema=SCHEMA_NAME)"
   ]
  },
  {
   "cell_type": "code",
   "execution_count": null,
   "metadata": {},
   "outputs": [],
   "source": [
    "data_mart_details = ai_client.data_mart.get_details()\n",
    "data_mart_details"
   ]
  },
  {
   "cell_type": "markdown",
   "metadata": {},
   "source": [
    "## Bind machine learning engines"
   ]
  },
  {
   "cell_type": "code",
   "execution_count": null,
   "metadata": {
    "scrolled": true
   },
   "outputs": [],
   "source": [
    "binding_uid = ai_client.data_mart.bindings.add('WML instance', WatsonMachineLearningInstance(wml_credentials))\n",
    "bindings_details = ai_client.data_mart.bindings.get_details()\n",
    "ai_client.data_mart.bindings.list()"
   ]
  },
  {
   "cell_type": "code",
   "execution_count": null,
   "metadata": {
    "scrolled": true
   },
   "outputs": [],
   "source": [
    "ai_client.data_mart.bindings.list_assets()"
   ]
  },
  {
   "cell_type": "markdown",
   "metadata": {},
   "source": [
    "## Subscriptions"
   ]
  },
  {
   "cell_type": "markdown",
   "metadata": {},
   "source": [
    "### Remove existing credit risk subscriptions"
   ]
  },
  {
   "cell_type": "code",
   "execution_count": null,
   "metadata": {},
   "outputs": [],
   "source": [
    "subscriptions_uids = ai_client.data_mart.subscriptions.get_uids()\n",
    "for subscription in subscriptions_uids:\n",
    "    sub_name = ai_client.data_mart.subscriptions.get_details(subscription)['entity']['asset']['name']\n",
    "    if sub_name == model_name:\n",
    "        ai_client.data_mart.subscriptions.delete(subscription)\n",
    "        print('Deleted existing subscription for', model_name)"
   ]
  },
  {
   "cell_type": "code",
   "execution_count": null,
   "metadata": {
    "scrolled": true
   },
   "outputs": [],
   "source": [
    "# subscription = ai_client.data_mart.subscriptions.add(WatsonMachineLearningAsset(\n",
    "#             source_uid=model_uid,\n",
    "#             label_column='Risk',\n",
    "#             prediction_column='prediction',\n",
    "#             probability_column='probability'\n",
    "#         ))\n",
    "\n",
    "subscription = ai_client.data_mart.subscriptions.add(WatsonMachineLearningAsset(model_uid))\n",
    "\n",
    "if subscription is None:\n",
    "    # subscription already exists; get the existing one\n",
    "    subscriptions_uids = ai_client.data_mart.subscriptions.get_uids()\n",
    "    for sub in subscriptions_uids:\n",
    "        if ai_client.data_mart.subscriptions.get_details(sub)['entity']['asset']['name'] == model_name:\n",
    "            subscription = ai_client.data_mart.subscriptions.get(sub)"
   ]
  },
  {
   "cell_type": "markdown",
   "metadata": {},
   "source": [
    "Get subscription list"
   ]
  },
  {
   "cell_type": "code",
   "execution_count": null,
   "metadata": {},
   "outputs": [],
   "source": [
    "subscriptions_uids = ai_client.data_mart.subscriptions.get_uids()\n",
    "ai_client.data_mart.subscriptions.list()"
   ]
  },
  {
   "cell_type": "markdown",
   "metadata": {},
   "source": [
    "### Score the model"
   ]
  },
  {
   "cell_type": "code",
   "execution_count": null,
   "metadata": {},
   "outputs": [],
   "source": [
    "# wml_client = client.data_mart.bindings.get_native_engine_client(binding_uid=subscription.binding_uid)\n",
    "credit_risk_scoring_endpoint = None\n",
    "deployment_uid = subscription.get_deployment_uids()[0]\n",
    "\n",
    "print(deployment_uid)\n",
    "\n",
    "for deployment in wml_client.deployments.get_details()['resources']:\n",
    "    if deployment_uid in deployment['metadata']['guid']:\n",
    "        credit_risk_scoring_endpoint = deployment['entity']['scoring_url']\n",
    "        \n",
    "print(credit_risk_scoring_endpoint)"
   ]
  },
  {
   "cell_type": "code",
   "execution_count": null,
   "metadata": {},
   "outputs": [],
   "source": [
    "fields = [\"CheckingStatus\",\"LoanDuration\",\"CreditHistory\",\"LoanPurpose\",\"LoanAmount\",\"ExistingSavings\",\"EmploymentDuration\",\"InstallmentPercent\",\"Sex\",\"OthersOnLoan\",\"CurrentResidenceDuration\",\"OwnsProperty\",\"Age\",\"InstallmentPlans\",\"Housing\",\"ExistingCreditsCount\",\"Job\",\"Dependents\",\"Telephone\",\"ForeignWorker\"]\n",
    "values = [\n",
    "  [\"no_checking\",13,\"credits_paid_to_date\",\"car_new\",1343,\"100_to_500\",\"1_to_4\",2,\"female\",\"none\",3,\"savings_insurance\",46,\"none\",\"own\",2,\"skilled\",1,\"none\",\"yes\"],\n",
    "  [\"no_checking\",24,\"prior_payments_delayed\",\"furniture\",4567,\"500_to_1000\",\"1_to_4\",4,\"male\",\"none\",4,\"savings_insurance\",36,\"none\",\"free\",2,\"management_self-employed\",1,\"none\",\"yes\"],\n",
    "  [\"0_to_200\",26,\"all_credits_paid_back\",\"car_new\",863,\"less_100\",\"less_1\",2,\"female\",\"co-applicant\",2,\"real_estate\",38,\"none\",\"own\",1,\"skilled\",1,\"none\",\"yes\"],\n",
    "  [\"0_to_200\",14,\"no_credits\",\"car_new\",2368,\"less_100\",\"1_to_4\",3,\"female\",\"none\",3,\"real_estate\",29,\"none\",\"own\",1,\"skilled\",1,\"none\",\"yes\"],\n",
    "  [\"0_to_200\",4,\"no_credits\",\"car_new\",250,\"less_100\",\"unemployed\",2,\"female\",\"none\",3,\"real_estate\",23,\"none\",\"rent\",1,\"management_self-employed\",1,\"none\",\"yes\"],\n",
    "  [\"no_checking\",17,\"credits_paid_to_date\",\"car_new\",832,\"100_to_500\",\"1_to_4\",2,\"male\",\"none\",2,\"real_estate\",42,\"none\",\"own\",1,\"skilled\",1,\"none\",\"yes\"],\n",
    "  [\"no_checking\",33,\"outstanding_credit\",\"appliances\",5696,\"unknown\",\"greater_7\",4,\"male\",\"co-applicant\",4,\"unknown\",54,\"none\",\"free\",2,\"skilled\",1,\"yes\",\"yes\"],\n",
    "  [\"0_to_200\",13,\"prior_payments_delayed\",\"retraining\",1375,\"100_to_500\",\"4_to_7\",3,\"male\",\"none\",3,\"real_estate\",37,\"none\",\"own\",2,\"management_self-employed\",1,\"none\",\"yes\"]\n",
    "]\n",
    "\n",
    "payload_scoring = {\"fields\": fields,\"values\": values}\n",
    "scoring_response = wml_client.deployments.score(credit_risk_scoring_endpoint, payload_scoring)\n",
    "\n",
    "print(scoring_response)"
   ]
  },
  {
   "cell_type": "markdown",
   "metadata": {},
   "source": [
    "## Quality and feedback monitoring"
   ]
  },
  {
   "cell_type": "markdown",
   "metadata": {},
   "source": [
    "### Enable quality monitoring"
   ]
  },
  {
   "cell_type": "code",
   "execution_count": null,
   "metadata": {},
   "outputs": [],
   "source": [
    "subscription.quality_monitoring.enable(problem_type=ProblemType.MULTICLASS_CLASSIFICATION, threshold=0.7, min_records=5)"
   ]
  },
  {
   "cell_type": "markdown",
   "metadata": {},
   "source": [
    "### Feedback logging"
   ]
  },
  {
   "cell_type": "code",
   "execution_count": null,
   "metadata": {},
   "outputs": [],
   "source": [
    "subscription.feedback_logging.store(\n",
    "    [\n",
    "        [\"no_checking\",28,\"outstanding_credit\",\"appliances\",5990,\"500_to_1000\",\"greater_7\",5,\"male\",\"co-applicant\",3,\"car_other\",55,\"none\",\"free\",2,\"skilled\",2,\"yes\",\"yes\",1],\n",
    "[\"greater_200\",22,\"all_credits_paid_back\",\"car_used\",3376,\"less_100\",\"less_1\",3,\"female\",\"none\",2,\"car_other\",32,\"none\",\"own\",1,\"skilled\",1,\"none\",\"yes\",0],\n",
    "[\"no_checking\",39,\"credits_paid_to_date\",\"vacation\",6434,\"unknown\",\"greater_7\",5,\"male\",\"none\",4,\"car_other\",39,\"none\",\"own\",2,\"skilled\",2,\"yes\",\"yes\",1],\n",
    "[\"0_to_200\",20,\"credits_paid_to_date\",\"furniture\",2442,\"less_100\",\"unemployed\",3,\"female\",\"none\",1,\"real_estate\",42,\"none\",\"own\",1,\"skilled\",1,\"none\",\"yes\",0],\n",
    "[\"greater_200\",4,\"all_credits_paid_back\",\"education\",4206,\"less_100\",\"unemployed\",1,\"female\",\"none\",3,\"savings_insurance\",27,\"none\",\"own\",1,\"management_self-employed\",1,\"none\",\"yes\",0],\n",
    "[\"greater_200\",23,\"credits_paid_to_date\",\"car_used\",2963,\"greater_1000\",\"greater_7\",4,\"male\",\"none\",4,\"car_other\",46,\"none\",\"own\",2,\"skilled\",1,\"none\",\"yes\",1],\n",
    "[\"no_checking\",31,\"prior_payments_delayed\",\"vacation\",2673,\"500_to_1000\",\"1_to_4\",3,\"male\",\"none\",2,\"real_estate\",35,\"stores\",\"rent\",1,\"skilled\",2,\"none\",\"yes\",1],\n",
    "[\"no_checking\",37,\"prior_payments_delayed\",\"other\",6971,\"500_to_1000\",\"1_to_4\",3,\"male\",\"none\",3,\"savings_insurance\",54,\"none\",\"own\",2,\"skilled\",1,\"yes\",\"yes\",1],\n",
    "[\"no_checking\",14,\"all_credits_paid_back\",\"car_new\",1525,\"500_to_1000\",\"4_to_7\",3,\"male\",\"none\",4,\"real_estate\",33,\"none\",\"own\",1,\"skilled\",1,\"none\",\"yes\",0],\n",
    "[\"less_0\",10,\"prior_payments_delayed\",\"furniture\",4037,\"less_100\",\"4_to_7\",3,\"male\",\"none\",3,\"savings_insurance\",31,\"none\",\"rent\",1,\"skilled\",1,\"none\",\"yes\",1],\n",
    "[\"0_to_200\",28,\"credits_paid_to_date\",\"retraining\",1152,\"less_100\",\"less_1\",2,\"female\",\"none\",2,\"savings_insurance\",20,\"stores\",\"own\",1,\"skilled\",1,\"none\",\"yes\",0],\n",
    "[\"less_0\",17,\"credits_paid_to_date\",\"car_new\",1880,\"less_100\",\"less_1\",3,\"female\",\"co-applicant\",2,\"savings_insurance\",41,\"none\",\"own\",1,\"skilled\",1,\"none\",\"yes\",0],\n",
    "[\"0_to_200\",39,\"prior_payments_delayed\",\"appliances\",5685,\"100_to_500\",\"1_to_4\",4,\"female\",\"none\",2,\"unknown\",37,\"none\",\"own\",2,\"skilled\",1,\"yes\",\"yes\",1],\n",
    "[\"no_checking\",32,\"prior_payments_delayed\",\"radio_tv\",5105,\"500_to_1000\",\"1_to_4\",4,\"male\",\"none\",5,\"savings_insurance\",44,\"none\",\"own\",2,\"management_self-employed\",1,\"none\",\"yes\",1],\n",
    "[\"no_checking\",38,\"prior_payments_delayed\",\"appliances\",4990,\"500_to_1000\",\"greater_7\",4,\"male\",\"none\",4,\"car_other\",50,\"bank\",\"own\",2,\"unemployed\",2,\"yes\",\"yes\",1],\n",
    "[\"less_0\",17,\"credits_paid_to_date\",\"furniture\",1017,\"less_100\",\"less_1\",2,\"female\",\"none\",1,\"car_other\",30,\"none\",\"own\",1,\"skilled\",1,\"none\",\"yes\",0],\n",
    "[\"less_0\",33,\"all_credits_paid_back\",\"car_new\",3618,\"500_to_1000\",\"4_to_7\",2,\"male\",\"none\",3,\"unknown\",31,\"stores\",\"own\",2,\"unskilled\",1,\"none\",\"yes\",0],\n",
    "[\"less_0\",12,\"no_credits\",\"car_new\",3037,\"less_100\",\"less_1\",1,\"female\",\"none\",2,\"car_other\",31,\"stores\",\"own\",1,\"skilled\",1,\"none\",\"yes\",0],\n",
    "[\"no_checking\",23,\"prior_payments_delayed\",\"furniture\",1440,\"100_to_500\",\"1_to_4\",3,\"female\",\"none\",3,\"real_estate\",39,\"stores\",\"own\",1,\"unskilled\",1,\"yes\",\"yes\",0],\n",
    "[\"less_0\",18,\"prior_payments_delayed\",\"retraining\",4032,\"less_100\",\"1_to_4\",2,\"female\",\"none\",2,\"car_other\",36,\"none\",\"rent\",1,\"skilled\",1,\"none\",\"yes\",0],\n",
    "[\"no_checking\",11,\"prior_payments_delayed\",\"car_used\",944,\"greater_1000\",\"1_to_4\",3,\"male\",\"none\",4,\"real_estate\",35,\"none\",\"own\",1,\"management_self-employed\",1,\"yes\",\"yes\",0],\n",
    "[\"no_checking\",36,\"prior_payments_delayed\",\"appliances\",5927,\"unknown\",\"greater_7\",4,\"male\",\"co-applicant\",3,\"savings_insurance\",47,\"none\",\"own\",2,\"skilled\",1,\"none\",\"yes\",1],\n",
    "[\"no_checking\",50,\"outstanding_credit\",\"other\",4694,\"unknown\",\"greater_7\",4,\"male\",\"none\",4,\"unknown\",37,\"none\",\"own\",1,\"skilled\",2,\"yes\",\"yes\",1],\n",
    "[\"no_checking\",32,\"prior_payments_delayed\",\"radio_tv\",10584,\"100_to_500\",\"1_to_4\",3,\"male\",\"co-applicant\",3,\"unknown\",46,\"stores\",\"own\",2,\"unskilled\",2,\"yes\",\"yes\",0],\n",
    "[\"no_checking\",41,\"prior_payments_delayed\",\"furniture\",8900,\"500_to_1000\",\"4_to_7\",4,\"male\",\"co-applicant\",3,\"car_other\",26,\"none\",\"free\",2,\"skilled\",1,\"yes\",\"yes\",1],\n",
    "[\"0_to_200\",14,\"credits_paid_to_date\",\"car_used\",1144,\"100_to_500\",\"less_1\",2,\"female\",\"none\",2,\"real_estate\",33,\"none\",\"rent\",1,\"skilled\",1,\"none\",\"yes\",0],\n",
    "[\"no_checking\",14,\"outstanding_credit\",\"appliances\",1680,\"100_to_500\",\"greater_7\",4,\"male\",\"none\",3,\"car_other\",47,\"none\",\"own\",1,\"management_self-employed\",1,\"none\",\"yes\",0],\n",
    "[\"0_to_200\",23,\"credits_paid_to_date\",\"retraining\",3387,\"less_100\",\"less_1\",3,\"female\",\"none\",3,\"savings_insurance\",28,\"none\",\"own\",1,\"skilled\",1,\"none\",\"yes\",0],\n",
    "[\"no_checking\",14,\"credits_paid_to_date\",\"furniture\",1269,\"500_to_1000\",\"greater_7\",2,\"male\",\"none\",2,\"savings_insurance\",39,\"none\",\"own\",1,\"skilled\",1,\"none\",\"yes\",0],\n",
    "[\"no_checking\",36,\"prior_payments_delayed\",\"appliances\",9570,\"100_to_500\",\"4_to_7\",4,\"male\",\"co-applicant\",3,\"car_other\",53,\"none\",\"free\",2,\"skilled\",1,\"yes\",\"yes\",0],\n",
    "[\"less_0\",16,\"credits_paid_to_date\",\"car_new\",1428,\"less_100\",\"4_to_7\",1,\"male\",\"none\",1,\"car_other\",20,\"bank\",\"rent\",1,\"unemployed\",1,\"yes\",\"yes\",0],\n",
    "[\"no_checking\",24,\"outstanding_credit\",\"car_used\",4620,\"greater_1000\",\"1_to_4\",3,\"male\",\"none\",4,\"savings_insurance\",40,\"none\",\"own\",2,\"skilled\",1,\"yes\",\"yes\",0],\n",
    "[\"no_checking\",34,\"prior_payments_delayed\",\"furniture\",2196,\"500_to_1000\",\"greater_7\",3,\"male\",\"none\",4,\"savings_insurance\",27,\"none\",\"own\",1,\"skilled\",1,\"none\",\"yes\",0],\n",
    "[\"no_checking\",25,\"prior_payments_delayed\",\"car_used\",8708,\"100_to_500\",\"1_to_4\",4,\"male\",\"none\",5,\"car_other\",43,\"none\",\"free\",2,\"management_self-employed\",1,\"none\",\"yes\",0],\n",
    "[\"no_checking\",37,\"outstanding_credit\",\"radio_tv\",10550,\"unknown\",\"greater_7\",5,\"male\",\"co-applicant\",4,\"unknown\",48,\"stores\",\"own\",2,\"unemployed\",2,\"yes\",\"yes\",1],\n",
    "[\"no_checking\",27,\"prior_payments_delayed\",\"radio_tv\",4981,\"500_to_1000\",\"4_to_7\",4,\"male\",\"none\",4,\"savings_insurance\",47,\"none\",\"own\",2,\"management_self-employed\",2,\"yes\",\"yes\",0],\n",
    "[\"less_0\",13,\"all_credits_paid_back\",\"car_new\",2436,\"less_100\",\"less_1\",2,\"female\",\"none\",1,\"savings_insurance\",19,\"stores\",\"own\",1,\"skilled\",1,\"none\",\"yes\",0],\n",
    "[\"greater_200\",25,\"outstanding_credit\",\"appliances\",4136,\"100_to_500\",\"4_to_7\",3,\"male\",\"none\",2,\"car_other\",46,\"bank\",\"own\",1,\"unemployed\",1,\"yes\",\"yes\",0],\n",
    "[\"no_checking\",15,\"credits_paid_to_date\",\"retraining\",4014,\"less_100\",\"1_to_4\",4,\"male\",\"co-applicant\",4,\"savings_insurance\",33,\"none\",\"own\",1,\"skilled\",1,\"yes\",\"yes\",1],\n",
    "[\"no_checking\",28,\"prior_payments_delayed\",\"appliances\",5440,\"100_to_500\",\"4_to_7\",3,\"male\",\"none\",2,\"unknown\",40,\"none\",\"own\",2,\"skilled\",1,\"yes\",\"yes\",1],\n",
    "[\"less_0\",13,\"prior_payments_delayed\",\"appliances\",250,\"500_to_1000\",\"4_to_7\",2,\"male\",\"none\",3,\"car_other\",28,\"stores\",\"own\",1,\"skilled\",1,\"none\",\"yes\",0],\n",
    "[\"less_0\",19,\"credits_paid_to_date\",\"furniture\",2111,\"less_100\",\"4_to_7\",3,\"male\",\"none\",2,\"savings_insurance\",34,\"bank\",\"own\",1,\"unemployed\",2,\"none\",\"yes\",0],\n",
    "[\"no_checking\",27,\"prior_payments_delayed\",\"appliances\",6455,\"100_to_500\",\"4_to_7\",3,\"male\",\"none\",4,\"car_other\",43,\"none\",\"own\",1,\"skilled\",1,\"none\",\"yes\",1],\n",
    "[\"less_0\",17,\"credits_paid_to_date\",\"car_used\",250,\"less_100\",\"4_to_7\",3,\"female\",\"none\",2,\"real_estate\",40,\"none\",\"free\",2,\"skilled\",1,\"none\",\"yes\",0],\n",
    "[\"no_checking\",27,\"prior_payments_delayed\",\"radio_tv\",4521,\"100_to_500\",\"less_1\",4,\"male\",\"none\",4,\"savings_insurance\",28,\"none\",\"own\",1,\"management_self-employed\",2,\"yes\",\"yes\",0],\n",
    "[\"no_checking\",37,\"prior_payments_delayed\",\"other\",7945,\"500_to_1000\",\"1_to_4\",4,\"male\",\"none\",4,\"savings_insurance\",39,\"none\",\"own\",2,\"management_self-employed\",1,\"none\",\"yes\",0],\n",
    "[\"less_0\",6,\"all_credits_paid_back\",\"car_used\",250,\"less_100\",\"1_to_4\",2,\"male\",\"none\",2,\"savings_insurance\",28,\"stores\",\"rent\",1,\"skilled\",1,\"none\",\"yes\",1],\n",
    "[\"less_0\",14,\"all_credits_paid_back\",\"appliances\",1431,\"less_100\",\"unemployed\",1,\"female\",\"none\",1,\"car_other\",25,\"stores\",\"own\",1,\"skilled\",1,\"none\",\"yes\",1],\n",
    "[\"greater_200\",5,\"credits_paid_to_date\",\"car_used\",250,\"less_100\",\"4_to_7\",3,\"male\",\"none\",2,\"savings_insurance\",42,\"none\",\"rent\",1,\"skilled\",1,\"none\",\"yes\",0]\n",
    "    ]\n",
    ")"
   ]
  },
  {
   "cell_type": "code",
   "execution_count": null,
   "metadata": {},
   "outputs": [],
   "source": [
    "subscription.feedback_logging.show_table()"
   ]
  },
  {
   "cell_type": "code",
   "execution_count": null,
   "metadata": {},
   "outputs": [],
   "source": [
    "run_details = subscription.quality_monitoring.run()\n",
    "status = run_details['status']\n",
    "id = run_details['id']\n",
    "print(id)\n",
    "\n",
    "print(\"Run status: {}\".format(status))\n",
    "\n",
    "start_time = time.time()\n",
    "elapsed_time = 0\n",
    "\n",
    "while status != 'completed' and elapsed_time < 60:\n",
    "    time.sleep(10)\n",
    "    run_details = subscription.quality_monitoring.get_run_details(run_uid=id)\n",
    "    status = run_details['status']\n",
    "    elapsed_time = time.time() - start_time\n",
    "    print(\"Run status: {}\".format(status))"
   ]
  },
  {
   "cell_type": "code",
   "execution_count": null,
   "metadata": {},
   "outputs": [],
   "source": [
    "subscription.quality_monitoring.get_run_details()"
   ]
  },
  {
   "cell_type": "code",
   "execution_count": null,
   "metadata": {},
   "outputs": [],
   "source": [
    "subscription.quality_monitoring.show_table()"
   ]
  },
  {
   "cell_type": "code",
   "execution_count": null,
   "metadata": {},
   "outputs": [],
   "source": [
    "subscription.quality_monitoring._get_data_from_rest_api()"
   ]
  },
  {
   "cell_type": "code",
   "execution_count": null,
   "metadata": {},
   "outputs": [],
   "source": [
    "ai_client.data_mart.get_deployment_metrics()"
   ]
  },
  {
   "cell_type": "markdown",
   "metadata": {},
   "source": [
    "## Fairness monitoring"
   ]
  },
  {
   "cell_type": "code",
   "execution_count": null,
   "metadata": {},
   "outputs": [],
   "source": [
    "subscription.fairness_monitoring.enable(\n",
    "            features=[\n",
    "                Feature(\"Sex\", majority=['male'], minority=['female'], threshold=0.95),\n",
    "                Feature(\"Age\", majority=[[26,120]], minority=[[18,25]], threshold=0.95)\n",
    "            ],\n",
    "            prediction_column='prediction',\n",
    "            favourable_classes=[0],\n",
    "            unfavourable_classes=[1, 2],\n",
    "            min_records=10\n",
    "        )"
   ]
  },
  {
   "cell_type": "code",
   "execution_count": null,
   "metadata": {},
   "outputs": [],
   "source": [
    "subscription.fairness_monitoring.run()"
   ]
  },
  {
   "cell_type": "code",
   "execution_count": null,
   "metadata": {},
   "outputs": [],
   "source": [
    "subscription.fairness_monitoring.show_table()"
   ]
  },
  {
   "cell_type": "code",
   "execution_count": null,
   "metadata": {},
   "outputs": [],
   "source": [
    "subscription.get_details()"
   ]
  },
  {
   "cell_type": "markdown",
   "metadata": {},
   "source": [
    "## Score the model again now that monitoring is configured"
   ]
  },
  {
   "cell_type": "code",
   "execution_count": null,
   "metadata": {},
   "outputs": [],
   "source": [
    "fields = [\"CheckingStatus\",\"LoanDuration\",\"CreditHistory\",\"LoanPurpose\",\"LoanAmount\",\"ExistingSavings\",\"EmploymentDuration\",\"InstallmentPercent\",\"Sex\",\"OthersOnLoan\",\"CurrentResidenceDuration\",\"OwnsProperty\",\"Age\",\"InstallmentPlans\",\"Housing\",\"ExistingCreditsCount\",\"Job\",\"Dependents\",\"Telephone\",\"ForeignWorker\"]\n",
    "values = [\n",
    "  [\"no_checking\",13,\"credits_paid_to_date\",\"car_new\",1343,\"100_to_500\",\"1_to_4\",2,\"female\",\"none\",3,\"savings_insurance\",46,\"none\",\"own\",2,\"skilled\",1,\"none\",\"yes\"],\n",
    "  [\"no_checking\",24,\"prior_payments_delayed\",\"furniture\",4567,\"500_to_1000\",\"1_to_4\",4,\"male\",\"none\",4,\"savings_insurance\",36,\"none\",\"free\",2,\"management_self-employed\",1,\"none\",\"yes\"],\n",
    "  [\"0_to_200\",26,\"all_credits_paid_back\",\"car_new\",863,\"less_100\",\"less_1\",2,\"female\",\"co-applicant\",2,\"real_estate\",38,\"none\",\"own\",1,\"skilled\",1,\"none\",\"yes\"],\n",
    "  [\"0_to_200\",14,\"no_credits\",\"car_new\",2368,\"less_100\",\"1_to_4\",3,\"female\",\"none\",3,\"real_estate\",29,\"none\",\"own\",1,\"skilled\",1,\"none\",\"yes\"],\n",
    "  [\"0_to_200\",4,\"no_credits\",\"car_new\",250,\"less_100\",\"unemployed\",2,\"female\",\"none\",3,\"real_estate\",23,\"none\",\"rent\",1,\"management_self-employed\",1,\"none\",\"yes\"],\n",
    "  [\"no_checking\",17,\"credits_paid_to_date\",\"car_new\",832,\"100_to_500\",\"1_to_4\",2,\"male\",\"none\",2,\"real_estate\",42,\"none\",\"own\",1,\"skilled\",1,\"none\",\"yes\"],\n",
    "  [\"no_checking\",33,\"outstanding_credit\",\"appliances\",5696,\"unknown\",\"greater_7\",4,\"male\",\"co-applicant\",4,\"unknown\",54,\"none\",\"free\",2,\"skilled\",1,\"yes\",\"yes\"],\n",
    "  [\"0_to_200\",13,\"prior_payments_delayed\",\"retraining\",1375,\"100_to_500\",\"4_to_7\",3,\"male\",\"none\",3,\"real_estate\",37,\"none\",\"own\",2,\"management_self-employed\",1,\"none\",\"yes\"]\n",
    "]\n",
    "\n",
    "payload_scoring = {\"fields\": fields,\"values\": values}\n",
    "scoring_response = wml_client.deployments.score(credit_risk_scoring_endpoint, payload_scoring)\n",
    "\n",
    "print(scoring_response)"
   ]
  },
  {
   "cell_type": "markdown",
   "metadata": {},
   "source": [
    "# Create historical data"
   ]
  },
  {
   "cell_type": "code",
   "execution_count": null,
   "metadata": {},
   "outputs": [],
   "source": [
    "!rm payload_history*.json\n",
    "!wget https://raw.githubusercontent.com/emartensibm/german-credit/master/payload_history_1.json\n",
    "!wget https://raw.githubusercontent.com/emartensibm/german-credit/master/payload_history_2.json\n",
    "!wget https://raw.githubusercontent.com/emartensibm/german-credit/master/payload_history_3.json\n",
    "!wget https://raw.githubusercontent.com/emartensibm/german-credit/master/payload_history_4.json\n",
    "!wget https://raw.githubusercontent.com/emartensibm/german-credit/master/payload_history_5.json\n",
    "!wget https://raw.githubusercontent.com/emartensibm/german-credit/master/payload_history_6.json\n",
    "!wget https://raw.githubusercontent.com/emartensibm/german-credit/master/payload_history_7.json"
   ]
  },
  {
   "cell_type": "code",
   "execution_count": null,
   "metadata": {},
   "outputs": [],
   "source": [
    "historyDays = 7"
   ]
  },
  {
   "cell_type": "code",
   "execution_count": null,
   "metadata": {},
   "outputs": [],
   "source": [
    "from ibm_ai_openscale.supporting_classes import PayloadRecord, Feature\n",
    "import datetime\n",
    "import time\n",
    "\n",
    "for day in range(historyDays):\n",
    "    print('Loading day {}'.format(day + 1))\n",
    "    history_file = 'payload_history_' + str(day + 1) + '.json'\n",
    "    with open(history_file) as f:\n",
    "        payloads = json.load(f)\n",
    "        hourly_records = int(len(payloads) / 24)\n",
    "        index = 0\n",
    "        for hour in range(24):\n",
    "            recordsList = []\n",
    "            for i in range(hourly_records):\n",
    "                score_time = str(datetime.datetime.utcnow() + datetime.timedelta(hours=(-(24*day + hour + 1))))\n",
    "                recordsList.append(PayloadRecord(request=payloads[index]['request'], response=payloads[index]['response'], scoring_timestamp=score_time))\n",
    "                index += 1\n",
    "            subscription.payload_logging.store(records=recordsList)\n",
    "print('Finished')"
   ]
  },
  {
   "cell_type": "code",
   "execution_count": null,
   "metadata": {},
   "outputs": [],
   "source": [
    "performance_metrics_url = 'https://api.aiopenscale.cloud.ibm.com' + subscription.get_details()['metadata']['url'].split('/service_bindings')[0] + '/metrics'\n",
    "print(performance_metrics_url)"
   ]
  },
  {
   "cell_type": "code",
   "execution_count": null,
   "metadata": {},
   "outputs": [],
   "source": [
    "# store performance monitor history in MeasurementFacts table\n",
    "import random\n",
    "token_data = {\n",
    "    'grant_type': 'urn:ibm:params:oauth:grant-type:apikey',\n",
    "    'response_type': 'cloud_iam',\n",
    "    'apikey': AIOS_CREDENTIALS['apikey']\n",
    "}\n",
    "\n",
    "response = requests.post('https://iam.bluemix.net/identity/token', data=token_data)\n",
    "iam_token = response.json()['access_token']\n",
    "iam_headers = {\n",
    "    'Content-Type': 'application/json',\n",
    "    'Authorization': 'Bearer %s' % iam_token\n",
    "}\n",
    "\n",
    "for day in range(historyDays):\n",
    "    print('Day', day + 1)\n",
    "    for hour in range(24):\n",
    "        score_time = (datetime.datetime.utcnow() + datetime.timedelta(hours=(-(24*day + hour + 1)))).strftime('%Y-%m-%dT%H:%M:%SZ')\n",
    "        score_count = random.randint(60, 600)\n",
    "        score_resp = random.uniform(60, 300)\n",
    "\n",
    "        performanceMetric = {\n",
    "            'metric_type': 'performance',\n",
    "            'binding_id': binding_uid,\n",
    "            'timestamp': score_time,\n",
    "            'subscription_id': model_uid,\n",
    "            'asset_revision': model_uid,\n",
    "            'deployment_id': deployment_uid,\n",
    "            'value': {\n",
    "                'response_time': score_resp,\n",
    "                'records': score_count\n",
    "            }\n",
    "        }\n",
    "\n",
    "        response = requests.post(performance_metrics_url, json=[performanceMetric], headers=iam_headers)\n",
    "print('Finished')"
   ]
  },
  {
   "cell_type": "code",
   "execution_count": null,
   "metadata": {},
   "outputs": [],
   "source": [
    "data_mart_id = subscription.get_details()['metadata']['url'].split('/service_bindings')[0].split('marts/')[1]\n",
    "print(data_mart_id)"
   ]
  },
  {
   "cell_type": "markdown",
   "metadata": {},
   "source": [
    "## Load historical quality MeasurementFacts to AIOS"
   ]
  },
  {
   "cell_type": "code",
   "execution_count": null,
   "metadata": {},
   "outputs": [],
   "source": [
    "token_data = {\n",
    "    'grant_type': 'urn:ibm:params:oauth:grant-type:apikey',\n",
    "    'response_type': 'cloud_iam',\n",
    "    'apikey': AIOS_CREDENTIALS['apikey']\n",
    "}\n",
    "\n",
    "response = requests.post('https://iam.bluemix.net/identity/token', data=token_data)\n",
    "iam_token = response.json()['access_token']\n",
    "iam_headers = {\n",
    "    'Content-Type': 'application/json',\n",
    "    'Authorization': 'Bearer %s' % iam_token\n",
    "}\n",
    "\n",
    "measurements = [0.76, 0.78, 0.68, 0.72, 0.73, 0.77, 0.80]\n",
    "for day in range(historyDays):\n",
    "    print('Day', day + 1)\n",
    "    for hour in range(24):\n",
    "        score_time = (datetime.datetime.utcnow() + datetime.timedelta(hours=(-(24*day + hour + 1)))).strftime('%Y-%m-%dT%H:%M:%SZ')\n",
    "        \n",
    "        qualityMetric = {\n",
    "            'metric_type': 'quality',\n",
    "            'binding_id': binding_uid,\n",
    "            'timestamp': score_time,\n",
    "            'subscription_id': model_uid,\n",
    "            'asset_revision': model_uid,\n",
    "            'deployment_id': deployment_uid,\n",
    "            'value': {\n",
    "                'quality': measurements[day],\n",
    "                'threshold': 0.8,\n",
    "                'metrics': [\n",
    "                    {\n",
    "                        'name': 'auroc',\n",
    "                        'value': measurements[day],\n",
    "                        'threshold': 0.8\n",
    "                    }\n",
    "                ]\n",
    "            }\n",
    "        }\n",
    "\n",
    "        response = requests.post(performance_metrics_url, json=[qualityMetric], headers=iam_headers)\n",
    "print('Finished')"
   ]
  },
  {
   "cell_type": "markdown",
   "metadata": {},
   "source": [
    "## Load historical fairness data"
   ]
  },
  {
   "cell_type": "code",
   "execution_count": null,
   "metadata": {},
   "outputs": [],
   "source": [
    "!rm fairness_history.json\n",
    "!rm debiased_fairness_history.json\n",
    "!wget https://raw.githubusercontent.com/emartensibm/german-credit/master/fairness_history.json\n",
    "!wget https://raw.githubusercontent.com/emartensibm/german-credit/master/debiased_fairness_history.json"
   ]
  },
  {
   "cell_type": "markdown",
   "metadata": {},
   "source": [
    "### Fairness data"
   ]
  },
  {
   "cell_type": "code",
   "execution_count": null,
   "metadata": {},
   "outputs": [],
   "source": [
    "# token_data = {\n",
    "#     'grant_type': 'urn:ibm:params:oauth:grant-type:apikey',\n",
    "#     'response_type': 'cloud_iam',\n",
    "#     'apikey': AIOS_CREDENTIALS['apikey']\n",
    "# }\n",
    "\n",
    "# response = requests.post('https://iam.bluemix.net/identity/token', data=token_data)\n",
    "# iam_token = response.json()['access_token']\n",
    "# iam_headers = {\n",
    "#     'Content-Type': 'application/json',\n",
    "#     'Authorization': 'Bearer %s' % iam_token\n",
    "# }\n",
    "\n",
    "# index = 0\n",
    "\n",
    "# with open('fairness_history.json') as f:\n",
    "#     payloads = json.load(f)\n",
    "#     for day in range(historyDays):\n",
    "#         print('Loading day {}'.format(day + 1))\n",
    "#         for hour in range(24):\n",
    "#             score_time = (datetime.datetime.utcnow() + datetime.timedelta(hours=(-(24*day + hour + 1)))).strftime('%Y-%m-%dT%H:%M:%SZ')\n",
    "#             qualityMetric = {\n",
    "#                 'metric_type': 'fairness',\n",
    "#                 'binding_id': binding_uid,\n",
    "#                 'timestamp': score_time,\n",
    "#                 'subscription_id': model_uid,\n",
    "#                 'asset_revision': model_uid,\n",
    "#                 'deployment_id': deployment_uid,\n",
    "#                 'value': {\n",
    "#                     'quality': measurements[day],\n",
    "#                     'threshold': 0.8,\n",
    "#                     'metrics': payloads[index][\"metrics\"]\n",
    "#                 }\n",
    "#             }\n",
    "#             response = requests.post(performance_metrics_url, json=[qualityMetric], headers=iam_headers)\n",
    "#             index += 1\n",
    "#         subscription.fairness_monitoring.run()\n",
    "# print('Finished')"
   ]
  },
  {
   "cell_type": "markdown",
   "metadata": {},
   "source": [
    "### Debiasied fairness data"
   ]
  },
  {
   "cell_type": "code",
   "execution_count": null,
   "metadata": {},
   "outputs": [],
   "source": [
    "# token_data = {\n",
    "#     'grant_type': 'urn:ibm:params:oauth:grant-type:apikey',\n",
    "#     'response_type': 'cloud_iam',\n",
    "#     'apikey': AIOS_CREDENTIALS['apikey']\n",
    "# }\n",
    "\n",
    "# response = requests.post('https://iam.bluemix.net/identity/token', data=token_data)\n",
    "# iam_token = response.json()['access_token']\n",
    "# iam_headers = {\n",
    "#     'Content-Type': 'application/json',\n",
    "#     'Authorization': 'Bearer %s' % iam_token\n",
    "# }\n",
    "\n",
    "# index = 0\n",
    "\n",
    "# with open('debiased_fairness_history.json') as f:\n",
    "#     payloads = json.load(f)\n",
    "#     for day in range(historyDays):\n",
    "#         print('Loading day {}'.format(day + 1))\n",
    "#         for hour in range(24):\n",
    "#             score_time = (datetime.datetime.utcnow() + datetime.timedelta(hours=(-(24*day + hour + 1)))).strftime('%Y-%m-%dT%H:%M:%SZ')\n",
    "#             qualityMetric = {\n",
    "#                 'metric_type': 'debiased_fairness',\n",
    "#                 'binding_id': binding_uid,\n",
    "#                 'timestamp': score_time,\n",
    "#                 'subscription_id': model_uid,\n",
    "#                 'asset_revision': model_uid,\n",
    "#                 'deployment_id': deployment_uid,\n",
    "#                 'value': {\n",
    "#                     'quality': measurements[day],\n",
    "#                     'threshold': 0.8,\n",
    "#                     'metrics': payloads[index][\"metrics\"]\n",
    "#                 }\n",
    "#             }\n",
    "#             response = requests.post(performance_metrics_url, json=[qualityMetric], headers=iam_headers)\n",
    "#             index += 1\n",
    "# print('Finished')"
   ]
  },
  {
   "cell_type": "markdown",
   "metadata": {},
   "source": [
    "## Run historical fairness monitoring"
   ]
  },
  {
   "cell_type": "code",
   "execution_count": null,
   "metadata": {},
   "outputs": [],
   "source": [
    "token_data = {\n",
    "    'grant_type': 'urn:ibm:params:oauth:grant-type:apikey',\n",
    "    'response_type': 'cloud_iam',\n",
    "    'apikey': AIOS_CREDENTIALS['apikey']\n",
    "}\n",
    "\n",
    "response = requests.post('https://iam.bluemix.net/identity/token', data=token_data)\n",
    "iam_token = response.json()['access_token']\n",
    "iam_headers = {\n",
    "    'Content-Type': 'application/json',\n",
    "    'Authorization': 'Bearer %s' % iam_token\n",
    "}\n",
    "\n",
    "metrics_url = 'https://api.aiopenscale.cloud.ibm.com/v1/fairness_monitoring'\n",
    "request_params = {\"fairness_history_run\": \"true\"}\n",
    "fairness_history_payload = {\n",
    "    \"data_mart_id\": data_mart_id,\n",
    "    \"asset_id\": model_uid,\n",
    "    \"deployment_id\": deployment_uid,\n",
    "    \"fairness_history_run\": \"true\",\n",
    "    \"parameters\": {\n",
    "        \"features\": [\n",
    "            {\n",
    "                \"feature\": \"Sex\",\n",
    "                \"majority\": ['male'],\n",
    "                \"minority\": ['female'],\n",
    "                \"threshold\": 0.95\n",
    "            }, \n",
    "            {\n",
    "                \"feature\": \"Age\",\n",
    "                \"majority\": [[26,120]],\n",
    "                \"minority\": [[0,25]],\n",
    "                \"threshold\": 0.95\n",
    "            }\n",
    "            ],\n",
    "        \"class_label\": \"prediction\",\n",
    "        \"favourable_class\": [0],\n",
    "        \"unfavourable_class\": [1,2],\n",
    "        \"min_records\": 10\n",
    "    }\n",
    "}\n",
    "response = requests.post(metrics_url, json=fairness_history_payload, headers=iam_headers, params=request_params)\n",
    "print(response.text)"
   ]
  },
  {
   "cell_type": "markdown",
   "metadata": {},
   "source": [
    "## Explainability"
   ]
  },
  {
   "cell_type": "code",
   "execution_count": null,
   "metadata": {},
   "outputs": [],
   "source": [
    "from ibm_ai_openscale.supporting_classes import *\n",
    "subscription.explainability.enable(\n",
    "    problem_type=ProblemType.MULTICLASS_CLASSIFICATION,\n",
    "            input_data_type=InputDataType.STRUCTURED,\n",
    "            feature_columns = [\"CheckingStatus\",\"LoanDuration\",\"CreditHistory\",\"LoanPurpose\",\"LoanAmount\",\"ExistingSavings\",\"EmploymentDuration\",\"InstallmentPercent\",\"Sex\",\"OthersOnLoan\",\"CurrentResidenceDuration\",\"OwnsProperty\",\"Age\",\"InstallmentPlans\",\"Housing\",\"ExistingCreditsCount\",\"Job\",\"Dependents\",\"Telephone\",\"ForeignWorker\"],\n",
    "            categorical_columns = [\"CheckingStatus\",\"CreditHistory\",\"LoanPurpose\",\"ExistingSavings\",\"EmploymentDuration\",\"Sex\",\"OthersOnLoan\",\"OwnsProperty\",\"InstallmentPlans\",\"Housing\",\"Job\",\"Telephone\",\"ForeignWorker\"],\n",
    "            label_column='Risk',\n",
    "            training_data_reference=BluemixCloudObjectStorageReference(\n",
    "                COS_CREDENTIALS,\n",
    "                COS_BUCKET_NAME + '/credit_risk_training.csv',\n",
    "                first_line_header=True\n",
    "            )\n",
    "        )"
   ]
  },
  {
   "cell_type": "code",
   "execution_count": null,
   "metadata": {},
   "outputs": [],
   "source": [
    "subscription.explainability.get_details()"
   ]
  },
  {
   "cell_type": "markdown",
   "metadata": {},
   "source": [
    "## Explain a transaction"
   ]
  },
  {
   "cell_type": "code",
   "execution_count": null,
   "metadata": {},
   "outputs": [],
   "source": [
    "# subscription.explainability.run('9db3077f-8d4a-4dc4-9c8f-30fde3f3ad8e-1')"
   ]
  },
  {
   "cell_type": "code",
   "execution_count": null,
   "metadata": {},
   "outputs": [],
   "source": [
    "print('Datamart:', data_mart_id)\n",
    "print('Model:', model_uid)\n",
    "print('Deployment:', deployment_uid)"
   ]
  }
 ],
 "metadata": {
  "kernelspec": {
   "display_name": "Python 3.5 with Spark 2.1",
   "language": "python",
   "name": "python3-spark21"
  },
  "language_info": {
   "codemirror_mode": {
    "name": "ipython",
    "version": 3
   },
   "file_extension": ".py",
   "mimetype": "text/x-python",
   "name": "python",
   "nbconvert_exporter": "python",
   "pygments_lexer": "ipython3",
   "version": "3.5.4"
  }
 },
 "nbformat": 4,
 "nbformat_minor": 1
}
